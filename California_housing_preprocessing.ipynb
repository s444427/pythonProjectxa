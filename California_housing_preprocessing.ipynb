{
 "cells": [
  {
   "cell_type": "markdown",
   "id": "b9b9fcc8-5519-44e0-8c2a-98820b20944e",
   "metadata": {},
   "source": [
    "## Downloading data"
   ]
  },
  {
   "cell_type": "code",
   "execution_count": 23,
   "id": "78439796-b524-4571-93c5-39290b22f66f",
   "metadata": {},
   "outputs": [
    {
     "name": "stdout",
     "output_type": "stream",
     "text": [
      "3.9.2 (default, Feb 28 2021, 17:03:44) \n",
      "[GCC 10.2.1 20210110]\n",
      "0.17.0\n",
      "1.24.2\n",
      "1.6.0\n"
     ]
    }
   ],
   "source": [
    "import pandas as pd\n",
    "import numpy as np\n",
    "import matplotlib.pyplot as plt\n",
    "import seaborn as sns\n",
    "import scipy\n",
    "import joblib\n",
    "import sys\n",
    "\n",
    "print(sys.version)\n",
    "print(joblib.__version__)\n",
    "print(np.version.version)\n",
    "print(scipy.__version__)"
   ]
  },
  {
   "cell_type": "code",
   "execution_count": 52,
   "id": "c27a8120-c896-43b2-bed8-3e3d35ea8613",
   "metadata": {},
   "outputs": [
    {
     "name": "stdout",
     "output_type": "stream",
     "text": [
      "   longitude  latitude  housing_median_age  total_rooms  total_bedrooms  \\\n",
      "0    -122.23     37.88                41.0        880.0           129.0   \n",
      "1    -122.22     37.86                21.0       7099.0          1106.0   \n",
      "2    -122.24     37.85                52.0       1467.0           190.0   \n",
      "3    -122.25     37.85                52.0       1274.0           235.0   \n",
      "4    -122.25     37.85                52.0       1627.0           280.0   \n",
      "5    -122.25     37.85                52.0        919.0           213.0   \n",
      "\n",
      "   population  households  median_income  median_house_value ocean_proximity  \n",
      "0       322.0       126.0         8.3252            452600.0        NEAR BAY  \n",
      "1      2401.0      1138.0         8.3014            358500.0        NEAR BAY  \n",
      "2       496.0       177.0         7.2574            352100.0        NEAR BAY  \n",
      "3       558.0       219.0         5.6431            341300.0        NEAR BAY  \n",
      "4       565.0       259.0         3.8462            342200.0        NEAR BAY  \n",
      "5       413.0       193.0         4.0368            269700.0        NEAR BAY  \n"
     ]
    }
   ],
   "source": [
    "# Wczytanie pełnych (oryginalnych) danych\n",
    "\n",
    "df = pd.read_csv('housing.csv', sep = ',', header = 0)\n",
    "# data_california = np.array(data_california)\n",
    "print(df[:6])"
   ]
  },
  {
   "cell_type": "markdown",
   "id": "464e4376-476c-46ea-968e-28a8a06670c9",
   "metadata": {},
   "source": [
    "## Test/dev/train sets"
   ]
  },
  {
   "cell_type": "code",
   "execution_count": 91,
   "id": "f7a8f1f2-3cdb-4b25-b918-06a7d58cb892",
   "metadata": {},
   "outputs": [],
   "source": [
    "# https://stackoverflow.com/a/70573258\n",
    "\n",
    "def train_test_split(df, frac=0.2):\n",
    "    \n",
    "    # get random sample \n",
    "    test = df.sample(frac=frac, axis=0)\n",
    "    \n",
    "    # get everything but the test sample\n",
    "    train = df.drop(index=test.index)\n",
    "\n",
    "    return train, test"
   ]
  },
  {
   "cell_type": "code",
   "execution_count": 93,
   "id": "0f420d46-af09-4b19-84cc-81d224f3f5a6",
   "metadata": {},
   "outputs": [
    {
     "name": "stdout",
     "output_type": "stream",
     "text": [
      "12384\n",
      "4128\n",
      "4128\n"
     ]
    }
   ],
   "source": [
    "# Podział 6:2:2\n",
    "train, test = train_test_split(df, 0.2)\n",
    "train, dev = train_test_split(train, 0.25)\n",
    "\n",
    "print(len(train))\n",
    "print(len(test))\n",
    "print(len(dev))"
   ]
  },
  {
   "cell_type": "markdown",
   "id": "a74dcf42-49b3-4963-a0dc-62f0d17e242c",
   "metadata": {},
   "source": [
    "## Stats"
   ]
  },
  {
   "cell_type": "markdown",
   "id": "6c17dd40-b82f-4109-ac53-30a5aca780d2",
   "metadata": {},
   "source": [
    "### General stats"
   ]
  },
  {
   "cell_type": "code",
   "execution_count": 73,
   "id": "7a9a8a3c-0344-4f38-9064-109324ed1c6b",
   "metadata": {},
   "outputs": [
    {
     "name": "stdout",
     "output_type": "stream",
     "text": [
      "The DataFrame :\n"
     ]
    },
    {
     "data": {
      "text/html": [
       "<div>\n",
       "<style scoped>\n",
       "    .dataframe tbody tr th:only-of-type {\n",
       "        vertical-align: middle;\n",
       "    }\n",
       "\n",
       "    .dataframe tbody tr th {\n",
       "        vertical-align: top;\n",
       "    }\n",
       "\n",
       "    .dataframe thead th {\n",
       "        text-align: right;\n",
       "    }\n",
       "</style>\n",
       "<table border=\"1\" class=\"dataframe\">\n",
       "  <thead>\n",
       "    <tr style=\"text-align: right;\">\n",
       "      <th></th>\n",
       "      <th>longitude</th>\n",
       "      <th>latitude</th>\n",
       "      <th>housing_median_age</th>\n",
       "      <th>total_rooms</th>\n",
       "      <th>total_bedrooms</th>\n",
       "      <th>population</th>\n",
       "      <th>households</th>\n",
       "      <th>median_income</th>\n",
       "      <th>median_house_value</th>\n",
       "      <th>ocean_proximity</th>\n",
       "    </tr>\n",
       "  </thead>\n",
       "  <tbody>\n",
       "    <tr>\n",
       "      <th>0</th>\n",
       "      <td>-122.23</td>\n",
       "      <td>37.88</td>\n",
       "      <td>41.0</td>\n",
       "      <td>880.0</td>\n",
       "      <td>129.0</td>\n",
       "      <td>322.0</td>\n",
       "      <td>126.0</td>\n",
       "      <td>8.3252</td>\n",
       "      <td>452600.0</td>\n",
       "      <td>NEAR BAY</td>\n",
       "    </tr>\n",
       "    <tr>\n",
       "      <th>1</th>\n",
       "      <td>-122.22</td>\n",
       "      <td>37.86</td>\n",
       "      <td>21.0</td>\n",
       "      <td>7099.0</td>\n",
       "      <td>1106.0</td>\n",
       "      <td>2401.0</td>\n",
       "      <td>1138.0</td>\n",
       "      <td>8.3014</td>\n",
       "      <td>358500.0</td>\n",
       "      <td>NEAR BAY</td>\n",
       "    </tr>\n",
       "    <tr>\n",
       "      <th>2</th>\n",
       "      <td>-122.24</td>\n",
       "      <td>37.85</td>\n",
       "      <td>52.0</td>\n",
       "      <td>1467.0</td>\n",
       "      <td>190.0</td>\n",
       "      <td>496.0</td>\n",
       "      <td>177.0</td>\n",
       "      <td>7.2574</td>\n",
       "      <td>352100.0</td>\n",
       "      <td>NEAR BAY</td>\n",
       "    </tr>\n",
       "    <tr>\n",
       "      <th>3</th>\n",
       "      <td>-122.25</td>\n",
       "      <td>37.85</td>\n",
       "      <td>52.0</td>\n",
       "      <td>1274.0</td>\n",
       "      <td>235.0</td>\n",
       "      <td>558.0</td>\n",
       "      <td>219.0</td>\n",
       "      <td>5.6431</td>\n",
       "      <td>341300.0</td>\n",
       "      <td>NEAR BAY</td>\n",
       "    </tr>\n",
       "    <tr>\n",
       "      <th>4</th>\n",
       "      <td>-122.25</td>\n",
       "      <td>37.85</td>\n",
       "      <td>52.0</td>\n",
       "      <td>1627.0</td>\n",
       "      <td>280.0</td>\n",
       "      <td>565.0</td>\n",
       "      <td>259.0</td>\n",
       "      <td>3.8462</td>\n",
       "      <td>342200.0</td>\n",
       "      <td>NEAR BAY</td>\n",
       "    </tr>\n",
       "  </tbody>\n",
       "</table>\n",
       "</div>"
      ],
      "text/plain": [
       "   longitude  latitude  housing_median_age  total_rooms  total_bedrooms  \\\n",
       "0    -122.23     37.88                41.0        880.0           129.0   \n",
       "1    -122.22     37.86                21.0       7099.0          1106.0   \n",
       "2    -122.24     37.85                52.0       1467.0           190.0   \n",
       "3    -122.25     37.85                52.0       1274.0           235.0   \n",
       "4    -122.25     37.85                52.0       1627.0           280.0   \n",
       "\n",
       "   population  households  median_income  median_house_value ocean_proximity  \n",
       "0       322.0       126.0         8.3252            452600.0        NEAR BAY  \n",
       "1      2401.0      1138.0         8.3014            358500.0        NEAR BAY  \n",
       "2       496.0       177.0         7.2574            352100.0        NEAR BAY  \n",
       "3       558.0       219.0         5.6431            341300.0        NEAR BAY  \n",
       "4       565.0       259.0         3.8462            342200.0        NEAR BAY  "
      ]
     },
     "metadata": {},
     "output_type": "display_data"
    },
    {
     "name": "stdout",
     "output_type": "stream",
     "text": [
      "\n",
      "total number of samples:  20640\n",
      "\n",
      "The column headers :\n",
      "['longitude', 'latitude', 'housing_median_age', 'total_rooms', 'total_bedrooms', 'population', 'households', 'median_income', 'median_house_value', 'ocean_proximity']\n",
      "\n",
      "Number of columns:  10\n",
      "\n"
     ]
    }
   ],
   "source": [
    "print(\"The DataFrame :\")\n",
    "display(df.head())\n",
    "print()\n",
    "\n",
    "print(\"total number of samples: \",len(df))\n",
    "print()\n",
    "\n",
    "\n",
    "print(\"The column headers :\")\n",
    "print(list(df.columns))\n",
    "print()\n",
    "\n",
    "print(\"Number of columns: \", len(list(df.columns)))\n",
    "print()\n",
    "\n"
   ]
  },
  {
   "cell_type": "markdown",
   "id": "9fba742e-f8c2-4fbb-bb75-0ef6996bbb57",
   "metadata": {},
   "source": [
    "### Class stats"
   ]
  },
  {
   "cell_type": "code",
   "execution_count": 77,
   "id": "6ea32a51-0456-4097-9b2e-5557b04592e8",
   "metadata": {},
   "outputs": [
    {
     "data": {
      "text/plain": [
       "longitude               -119.569704\n",
       "latitude                  35.631861\n",
       "housing_median_age        28.639486\n",
       "total_rooms             2635.763081\n",
       "total_bedrooms           537.870553\n",
       "population              1425.476744\n",
       "households               499.539680\n",
       "median_income              3.870671\n",
       "median_house_value    206855.816909\n",
       "dtype: float64"
      ]
     },
     "execution_count": 77,
     "metadata": {},
     "output_type": "execute_result"
    }
   ],
   "source": [
    "df.mean()"
   ]
  },
  {
   "cell_type": "code",
   "execution_count": 78,
   "id": "f311c22f-5f5e-4adf-bc9f-4d2419b5a8ea",
   "metadata": {},
   "outputs": [
    {
     "data": {
      "text/plain": [
       "longitude               -124.35\n",
       "latitude                  32.54\n",
       "housing_median_age            1\n",
       "total_rooms                   2\n",
       "total_bedrooms                1\n",
       "population                    3\n",
       "households                    1\n",
       "median_income            0.4999\n",
       "median_house_value        14999\n",
       "ocean_proximity       <1H OCEAN\n",
       "dtype: object"
      ]
     },
     "execution_count": 78,
     "metadata": {},
     "output_type": "execute_result"
    }
   ],
   "source": [
    "df.min()"
   ]
  },
  {
   "cell_type": "code",
   "execution_count": 79,
   "id": "8e3f5440-35ea-4d74-8d01-c1dd06935769",
   "metadata": {},
   "outputs": [
    {
     "data": {
      "text/plain": [
       "longitude                -114.31\n",
       "latitude                   41.95\n",
       "housing_median_age            52\n",
       "total_rooms                39320\n",
       "total_bedrooms              6445\n",
       "population                 35682\n",
       "households                  6082\n",
       "median_income            15.0001\n",
       "median_house_value        500001\n",
       "ocean_proximity       NEAR OCEAN\n",
       "dtype: object"
      ]
     },
     "execution_count": 79,
     "metadata": {},
     "output_type": "execute_result"
    }
   ],
   "source": [
    "df.max()"
   ]
  },
  {
   "cell_type": "code",
   "execution_count": 81,
   "id": "c44a7085-451c-4fcf-81a2-7293ab4b3747",
   "metadata": {},
   "outputs": [
    {
     "data": {
      "text/plain": [
       "longitude                  2.003532\n",
       "latitude                   2.135952\n",
       "housing_median_age        12.585558\n",
       "total_rooms             2181.615252\n",
       "total_bedrooms           421.385070\n",
       "population              1132.462122\n",
       "households               382.329753\n",
       "median_income              1.899822\n",
       "median_house_value    115395.615874\n",
       "dtype: float64"
      ]
     },
     "execution_count": 81,
     "metadata": {},
     "output_type": "execute_result"
    }
   ],
   "source": [
    "df.std()"
   ]
  },
  {
   "cell_type": "code",
   "execution_count": 80,
   "id": "02d821e7-f0d6-42c0-a3c4-e29471151258",
   "metadata": {},
   "outputs": [
    {
     "data": {
      "text/plain": [
       "longitude               -118.4900\n",
       "latitude                  34.2600\n",
       "housing_median_age        29.0000\n",
       "total_rooms             2127.0000\n",
       "total_bedrooms           435.0000\n",
       "population              1166.0000\n",
       "households               409.0000\n",
       "median_income              3.5348\n",
       "median_house_value    179700.0000\n",
       "dtype: float64"
      ]
     },
     "execution_count": 80,
     "metadata": {},
     "output_type": "execute_result"
    }
   ],
   "source": [
    "df.median()"
   ]
  },
  {
   "cell_type": "markdown",
   "id": "ec9e848f-c77a-4f6c-a586-6276d798e629",
   "metadata": {},
   "source": [
    "## Normalize"
   ]
  },
  {
   "cell_type": "code",
   "execution_count": 97,
   "id": "98c82eab-20a9-449e-b938-5e584a592bce",
   "metadata": {},
   "outputs": [
    {
     "name": "stdout",
     "output_type": "stream",
     "text": [
      "0       -122.23\n",
      "1       -122.22\n",
      "2       -122.24\n",
      "3       -122.25\n",
      "4       -122.25\n",
      "          ...  \n",
      "20635   -121.09\n",
      "20636   -121.21\n",
      "20637   -121.22\n",
      "20638   -121.32\n",
      "20639   -121.24\n",
      "Name: longitude, Length: 20640, dtype: float64\n"
     ]
    }
   ],
   "source": [
    "print(df['longitude'])"
   ]
  },
  {
   "cell_type": "code",
   "execution_count": 136,
   "id": "91fed63a-8e53-4a6d-978b-3163b212a8fd",
   "metadata": {},
   "outputs": [
    {
     "name": "stdout",
     "output_type": "stream",
     "text": [
      "ocean_proximity\n",
      "ISLAND           5\n",
      "NEAR BAY      2290\n",
      "NEAR OCEAN    2658\n",
      "INLAND        6551\n",
      "<1H OCEAN     9136\n",
      "Name: longitude, dtype: int64\n"
     ]
    },
    {
     "data": {
      "image/png": "[encoded data removed]",
      "text/plain": [
       "<Figure size 640x480 with 1 Axes>"
      ]
     },
     "metadata": {},
     "output_type": "display_data"
    }
   ],
   "source": [
    "import matplotlib.pyplot as plt\n",
    "cat_totals = df.groupby(\"ocean_proximity\")['longitude'].count().sort_values()\n",
    "print(cat_totals)\n",
    "\n",
    "cat_totals.plot( kind='bar')\n",
    "plt.yscale('log',base=10)\n",
    "plt.grid(True)"
   ]
  },
  {
   "cell_type": "code",
   "execution_count": 101,
   "id": "7c233ef4-1e7f-44e3-a804-9a1ff5298982",
   "metadata": {},
   "outputs": [
    {
     "name": "stdout",
     "output_type": "stream",
     "text": [
      "       longitude  latitude  housing_median_age  total_rooms  total_bedrooms  \\\n",
      "0        -122.23     37.88                41.0        880.0           129.0   \n",
      "1        -122.22     37.86                21.0       7099.0          1106.0   \n",
      "2        -122.24     37.85                52.0       1467.0           190.0   \n",
      "3        -122.25     37.85                52.0       1274.0           235.0   \n",
      "4        -122.25     37.85                52.0       1627.0           280.0   \n",
      "...          ...       ...                 ...          ...             ...   \n",
      "20635    -121.09     39.48                25.0       1665.0           374.0   \n",
      "20636    -121.21     39.49                18.0        697.0           150.0   \n",
      "20637    -121.22     39.43                17.0       2254.0           485.0   \n",
      "20638    -121.32     39.43                18.0       1860.0           409.0   \n",
      "20639    -121.24     39.37                16.0       2785.0           616.0   \n",
      "\n",
      "       population  households  median_income  median_house_value  \\\n",
      "0           322.0       126.0         8.3252            452600.0   \n",
      "1          2401.0      1138.0         8.3014            358500.0   \n",
      "2           496.0       177.0         7.2574            352100.0   \n",
      "3           558.0       219.0         5.6431            341300.0   \n",
      "4           565.0       259.0         3.8462            342200.0   \n",
      "...           ...         ...            ...                 ...   \n",
      "20635       845.0       330.0         1.5603             78100.0   \n",
      "20636       356.0       114.0         2.5568             77100.0   \n",
      "20637      1007.0       433.0         1.7000             92300.0   \n",
      "20638       741.0       349.0         1.8672             84700.0   \n",
      "20639      1387.0       530.0         2.3886             89400.0   \n",
      "\n",
      "      ocean_proximity  \n",
      "0            NEAR BAY  \n",
      "1            NEAR BAY  \n",
      "2            NEAR BAY  \n",
      "3            NEAR BAY  \n",
      "4            NEAR BAY  \n",
      "...               ...  \n",
      "20635          INLAND  \n",
      "20636          INLAND  \n",
      "20637          INLAND  \n",
      "20638          INLAND  \n",
      "20639          INLAND  \n",
      "\n",
      "[20640 rows x 10 columns]\n"
     ]
    }
   ],
   "source": [
    "print(df)"
   ]
  },
  {
   "cell_type": "code",
   "execution_count": 163,
   "id": "2c766d20-2919-477b-9963-798b7c1bda47",
   "metadata": {},
   "outputs": [],
   "source": [
    "# MAP NAMES TO NUMBERS\n",
    "# codes = {'ISLAND':0, \"NEAR BAY\":1, 'NEAR OCEAN':2, 'INLAND': 3, '<1H OCEAN':4}\n",
    "# # copy the data\n",
    "# df_max_scaled = df.copy()\n",
    "\n",
    "# df_max_scaled['ocean_proximity'] = df_max_scaled['ocean_proximity'].map(codes)\n",
    "# print(df_max_scaled)"
   ]
  },
  {
   "cell_type": "code",
   "execution_count": 164,
   "id": "64a434c6-2558-4ef8-8379-b4c2b01a15e2",
   "metadata": {},
   "outputs": [
    {
     "name": "stdout",
     "output_type": "stream",
     "text": [
      "Series([], Name: longitude, dtype: int64)\n"
     ]
    },
    {
     "ename": "IndexError",
     "evalue": "index 0 is out of bounds for axis 0 with size 0",
     "output_type": "error",
     "traceback": [
      "\u001b[0;31m---------------------------------------------------------------------------\u001b[0m",
      "\u001b[0;31mIndexError\u001b[0m                                Traceback (most recent call last)",
      "Cell \u001b[0;32mIn [164], line 5\u001b[0m\n\u001b[1;32m      2\u001b[0m cat_totals \u001b[38;5;241m=\u001b[39m df_max_scaled\u001b[38;5;241m.\u001b[39mgroupby(\u001b[38;5;124m\"\u001b[39m\u001b[38;5;124mocean_proximity\u001b[39m\u001b[38;5;124m\"\u001b[39m)[\u001b[38;5;124m'\u001b[39m\u001b[38;5;124mlongitude\u001b[39m\u001b[38;5;124m'\u001b[39m]\u001b[38;5;241m.\u001b[39mcount()\u001b[38;5;241m.\u001b[39msort_values()\n\u001b[1;32m      3\u001b[0m \u001b[38;5;28mprint\u001b[39m(cat_totals)\n\u001b[0;32m----> 5\u001b[0m \u001b[43mcat_totals\u001b[49m\u001b[38;5;241;43m.\u001b[39;49m\u001b[43mplot\u001b[49m\u001b[43m(\u001b[49m\u001b[43m \u001b[49m\u001b[43mkind\u001b[49m\u001b[38;5;241;43m=\u001b[39;49m\u001b[38;5;124;43m'\u001b[39;49m\u001b[38;5;124;43mbar\u001b[39;49m\u001b[38;5;124;43m'\u001b[39;49m\u001b[43m)\u001b[49m\n\u001b[1;32m      6\u001b[0m plt\u001b[38;5;241m.\u001b[39myscale(\u001b[38;5;124m'\u001b[39m\u001b[38;5;124mlog\u001b[39m\u001b[38;5;124m'\u001b[39m,base\u001b[38;5;241m=\u001b[39m\u001b[38;5;241m10\u001b[39m)\n\u001b[1;32m      7\u001b[0m plt\u001b[38;5;241m.\u001b[39mgrid(\u001b[38;5;28;01mTrue\u001b[39;00m)\n",
      "File \u001b[0;32m/usr/lib/python3/dist-packages/pandas/plotting/_core.py:949\u001b[0m, in \u001b[0;36mPlotAccessor.__call__\u001b[0;34m(self, *args, **kwargs)\u001b[0m\n\u001b[1;32m    946\u001b[0m             label_name \u001b[38;5;241m=\u001b[39m label_kw \u001b[38;5;129;01mor\u001b[39;00m data\u001b[38;5;241m.\u001b[39mcolumns\n\u001b[1;32m    947\u001b[0m             data\u001b[38;5;241m.\u001b[39mcolumns \u001b[38;5;241m=\u001b[39m label_name\n\u001b[0;32m--> 949\u001b[0m \u001b[38;5;28;01mreturn\u001b[39;00m \u001b[43mplot_backend\u001b[49m\u001b[38;5;241;43m.\u001b[39;49m\u001b[43mplot\u001b[49m\u001b[43m(\u001b[49m\u001b[43mdata\u001b[49m\u001b[43m,\u001b[49m\u001b[43m \u001b[49m\u001b[43mkind\u001b[49m\u001b[38;5;241;43m=\u001b[39;49m\u001b[43mkind\u001b[49m\u001b[43m,\u001b[49m\u001b[43m \u001b[49m\u001b[38;5;241;43m*\u001b[39;49m\u001b[38;5;241;43m*\u001b[39;49m\u001b[43mkwargs\u001b[49m\u001b[43m)\u001b[49m\n",
      "File \u001b[0;32m/usr/lib/python3/dist-packages/pandas/plotting/_matplotlib/__init__.py:61\u001b[0m, in \u001b[0;36mplot\u001b[0;34m(data, kind, **kwargs)\u001b[0m\n\u001b[1;32m     59\u001b[0m         kwargs[\u001b[38;5;124m\"\u001b[39m\u001b[38;5;124max\u001b[39m\u001b[38;5;124m\"\u001b[39m] \u001b[38;5;241m=\u001b[39m \u001b[38;5;28mgetattr\u001b[39m(ax, \u001b[38;5;124m\"\u001b[39m\u001b[38;5;124mleft_ax\u001b[39m\u001b[38;5;124m\"\u001b[39m, ax)\n\u001b[1;32m     60\u001b[0m plot_obj \u001b[38;5;241m=\u001b[39m PLOT_CLASSES[kind](data, \u001b[38;5;241m*\u001b[39m\u001b[38;5;241m*\u001b[39mkwargs)\n\u001b[0;32m---> 61\u001b[0m \u001b[43mplot_obj\u001b[49m\u001b[38;5;241;43m.\u001b[39;49m\u001b[43mgenerate\u001b[49m\u001b[43m(\u001b[49m\u001b[43m)\u001b[49m\n\u001b[1;32m     62\u001b[0m plot_obj\u001b[38;5;241m.\u001b[39mdraw()\n\u001b[1;32m     63\u001b[0m \u001b[38;5;28;01mreturn\u001b[39;00m plot_obj\u001b[38;5;241m.\u001b[39mresult\n",
      "File \u001b[0;32m/usr/lib/python3/dist-packages/pandas/plotting/_matplotlib/core.py:278\u001b[0m, in \u001b[0;36mMPLPlot.generate\u001b[0;34m(self)\u001b[0m\n\u001b[1;32m    276\u001b[0m \u001b[38;5;28;01mfor\u001b[39;00m ax \u001b[38;5;129;01min\u001b[39;00m \u001b[38;5;28mself\u001b[39m\u001b[38;5;241m.\u001b[39maxes:\n\u001b[1;32m    277\u001b[0m     \u001b[38;5;28mself\u001b[39m\u001b[38;5;241m.\u001b[39m_post_plot_logic_common(ax, \u001b[38;5;28mself\u001b[39m\u001b[38;5;241m.\u001b[39mdata)\n\u001b[0;32m--> 278\u001b[0m     \u001b[38;5;28;43mself\u001b[39;49m\u001b[38;5;241;43m.\u001b[39;49m\u001b[43m_post_plot_logic\u001b[49m\u001b[43m(\u001b[49m\u001b[43max\u001b[49m\u001b[43m,\u001b[49m\u001b[43m \u001b[49m\u001b[38;5;28;43mself\u001b[39;49m\u001b[38;5;241;43m.\u001b[39;49m\u001b[43mdata\u001b[49m\u001b[43m)\u001b[49m\n",
      "File \u001b[0;32m/usr/lib/python3/dist-packages/pandas/plotting/_matplotlib/core.py:1461\u001b[0m, in \u001b[0;36mBarPlot._post_plot_logic\u001b[0;34m(self, ax, data)\u001b[0m\n\u001b[1;32m   1458\u001b[0m     str_index \u001b[38;5;241m=\u001b[39m [pprint_thing(key) \u001b[38;5;28;01mfor\u001b[39;00m key \u001b[38;5;129;01min\u001b[39;00m \u001b[38;5;28mrange\u001b[39m(data\u001b[38;5;241m.\u001b[39mshape[\u001b[38;5;241m0\u001b[39m])]\n\u001b[1;32m   1459\u001b[0m name \u001b[38;5;241m=\u001b[39m \u001b[38;5;28mself\u001b[39m\u001b[38;5;241m.\u001b[39m_get_index_name()\n\u001b[0;32m-> 1461\u001b[0m s_edge \u001b[38;5;241m=\u001b[39m \u001b[38;5;28;43mself\u001b[39;49m\u001b[38;5;241;43m.\u001b[39;49m\u001b[43max_pos\u001b[49m\u001b[43m[\u001b[49m\u001b[38;5;241;43m0\u001b[39;49m\u001b[43m]\u001b[49m \u001b[38;5;241m-\u001b[39m \u001b[38;5;241m0.25\u001b[39m \u001b[38;5;241m+\u001b[39m \u001b[38;5;28mself\u001b[39m\u001b[38;5;241m.\u001b[39mlim_offset\n\u001b[1;32m   1462\u001b[0m e_edge \u001b[38;5;241m=\u001b[39m \u001b[38;5;28mself\u001b[39m\u001b[38;5;241m.\u001b[39max_pos[\u001b[38;5;241m-\u001b[39m\u001b[38;5;241m1\u001b[39m] \u001b[38;5;241m+\u001b[39m \u001b[38;5;241m0.25\u001b[39m \u001b[38;5;241m+\u001b[39m \u001b[38;5;28mself\u001b[39m\u001b[38;5;241m.\u001b[39mbar_width \u001b[38;5;241m+\u001b[39m \u001b[38;5;28mself\u001b[39m\u001b[38;5;241m.\u001b[39mlim_offset\n\u001b[1;32m   1464\u001b[0m \u001b[38;5;28mself\u001b[39m\u001b[38;5;241m.\u001b[39m_decorate_ticks(ax, name, str_index, s_edge, e_edge)\n",
      "\u001b[0;31mIndexError\u001b[0m: index 0 is out of bounds for axis 0 with size 0"
     ]
    },
    {
     "data": {
      "image/png": "[encoded data removed]",
      "text/plain": [
       "<Figure size 640x480 with 1 Axes>"
      ]
     },
     "metadata": {},
     "output_type": "display_data"
    }
   ],
   "source": [
    "import matplotlib.pyplot as plt\n",
    "cat_totals = df_max_scaled.groupby(\"ocean_proximity\")['longitude'].count().sort_values()\n",
    "print(cat_totals)\n",
    "\n",
    "cat_totals.plot( kind='bar')\n",
    "plt.yscale('log',base=10)\n",
    "plt.grid(True)"
   ]
  },
  {
   "cell_type": "code",
   "execution_count": 165,
   "id": "5fa478dc-b312-4e9a-a437-7cc6480ab474",
   "metadata": {},
   "outputs": [
    {
     "data": {
      "text/html": [
       "<div>\n",
       "<style scoped>\n",
       "    .dataframe tbody tr th:only-of-type {\n",
       "        vertical-align: middle;\n",
       "    }\n",
       "\n",
       "    .dataframe tbody tr th {\n",
       "        vertical-align: top;\n",
       "    }\n",
       "\n",
       "    .dataframe thead th {\n",
       "        text-align: right;\n",
       "    }\n",
       "</style>\n",
       "<table border=\"1\" class=\"dataframe\">\n",
       "  <thead>\n",
       "    <tr style=\"text-align: right;\">\n",
       "      <th></th>\n",
       "      <th>longitude</th>\n",
       "      <th>latitude</th>\n",
       "      <th>housing_median_age</th>\n",
       "      <th>total_rooms</th>\n",
       "      <th>total_bedrooms</th>\n",
       "      <th>population</th>\n",
       "      <th>households</th>\n",
       "      <th>median_income</th>\n",
       "      <th>median_house_value</th>\n",
       "      <th>ocean_proximity</th>\n",
       "    </tr>\n",
       "  </thead>\n",
       "  <tbody>\n",
       "    <tr>\n",
       "      <th>0</th>\n",
       "      <td>-0.982951</td>\n",
       "      <td>0.902980</td>\n",
       "      <td>0.788462</td>\n",
       "      <td>0.022380</td>\n",
       "      <td>0.020016</td>\n",
       "      <td>0.009024</td>\n",
       "      <td>0.020717</td>\n",
       "      <td>0.555010</td>\n",
       "      <td>0.905198</td>\n",
       "      <td>NaN</td>\n",
       "    </tr>\n",
       "    <tr>\n",
       "      <th>1</th>\n",
       "      <td>-0.982871</td>\n",
       "      <td>0.902503</td>\n",
       "      <td>0.403846</td>\n",
       "      <td>0.180544</td>\n",
       "      <td>0.171606</td>\n",
       "      <td>0.067289</td>\n",
       "      <td>0.187110</td>\n",
       "      <td>0.553423</td>\n",
       "      <td>0.716999</td>\n",
       "      <td>NaN</td>\n",
       "    </tr>\n",
       "    <tr>\n",
       "      <th>2</th>\n",
       "      <td>-0.983032</td>\n",
       "      <td>0.902265</td>\n",
       "      <td>1.000000</td>\n",
       "      <td>0.037309</td>\n",
       "      <td>0.029480</td>\n",
       "      <td>0.013901</td>\n",
       "      <td>0.029102</td>\n",
       "      <td>0.483823</td>\n",
       "      <td>0.704199</td>\n",
       "      <td>NaN</td>\n",
       "    </tr>\n",
       "    <tr>\n",
       "      <th>3</th>\n",
       "      <td>-0.983112</td>\n",
       "      <td>0.902265</td>\n",
       "      <td>1.000000</td>\n",
       "      <td>0.032401</td>\n",
       "      <td>0.036462</td>\n",
       "      <td>0.015638</td>\n",
       "      <td>0.036008</td>\n",
       "      <td>0.376204</td>\n",
       "      <td>0.682599</td>\n",
       "      <td>NaN</td>\n",
       "    </tr>\n",
       "    <tr>\n",
       "      <th>4</th>\n",
       "      <td>-0.983112</td>\n",
       "      <td>0.902265</td>\n",
       "      <td>1.000000</td>\n",
       "      <td>0.041378</td>\n",
       "      <td>0.043445</td>\n",
       "      <td>0.015834</td>\n",
       "      <td>0.042585</td>\n",
       "      <td>0.256412</td>\n",
       "      <td>0.684399</td>\n",
       "      <td>NaN</td>\n",
       "    </tr>\n",
       "    <tr>\n",
       "      <th>...</th>\n",
       "      <td>...</td>\n",
       "      <td>...</td>\n",
       "      <td>...</td>\n",
       "      <td>...</td>\n",
       "      <td>...</td>\n",
       "      <td>...</td>\n",
       "      <td>...</td>\n",
       "      <td>...</td>\n",
       "      <td>...</td>\n",
       "      <td>...</td>\n",
       "    </tr>\n",
       "    <tr>\n",
       "      <th>20635</th>\n",
       "      <td>-0.973784</td>\n",
       "      <td>0.941120</td>\n",
       "      <td>0.480769</td>\n",
       "      <td>0.042345</td>\n",
       "      <td>0.058029</td>\n",
       "      <td>0.023681</td>\n",
       "      <td>0.054258</td>\n",
       "      <td>0.104019</td>\n",
       "      <td>0.156200</td>\n",
       "      <td>NaN</td>\n",
       "    </tr>\n",
       "    <tr>\n",
       "      <th>20636</th>\n",
       "      <td>-0.974749</td>\n",
       "      <td>0.941359</td>\n",
       "      <td>0.346154</td>\n",
       "      <td>0.017726</td>\n",
       "      <td>0.023274</td>\n",
       "      <td>0.009977</td>\n",
       "      <td>0.018744</td>\n",
       "      <td>0.170452</td>\n",
       "      <td>0.154200</td>\n",
       "      <td>NaN</td>\n",
       "    </tr>\n",
       "    <tr>\n",
       "      <th>20637</th>\n",
       "      <td>-0.974829</td>\n",
       "      <td>0.939928</td>\n",
       "      <td>0.326923</td>\n",
       "      <td>0.057325</td>\n",
       "      <td>0.075252</td>\n",
       "      <td>0.028222</td>\n",
       "      <td>0.071194</td>\n",
       "      <td>0.113333</td>\n",
       "      <td>0.184600</td>\n",
       "      <td>NaN</td>\n",
       "    </tr>\n",
       "    <tr>\n",
       "      <th>20638</th>\n",
       "      <td>-0.975633</td>\n",
       "      <td>0.939928</td>\n",
       "      <td>0.346154</td>\n",
       "      <td>0.047304</td>\n",
       "      <td>0.063460</td>\n",
       "      <td>0.020767</td>\n",
       "      <td>0.057382</td>\n",
       "      <td>0.124479</td>\n",
       "      <td>0.169400</td>\n",
       "      <td>NaN</td>\n",
       "    </tr>\n",
       "    <tr>\n",
       "      <th>20639</th>\n",
       "      <td>-0.974990</td>\n",
       "      <td>0.938498</td>\n",
       "      <td>0.307692</td>\n",
       "      <td>0.070829</td>\n",
       "      <td>0.095578</td>\n",
       "      <td>0.038871</td>\n",
       "      <td>0.087142</td>\n",
       "      <td>0.159239</td>\n",
       "      <td>0.178800</td>\n",
       "      <td>NaN</td>\n",
       "    </tr>\n",
       "  </tbody>\n",
       "</table>\n",
       "<p>20640 rows × 10 columns</p>\n",
       "</div>"
      ],
      "text/plain": [
       "       longitude  latitude  housing_median_age  total_rooms  total_bedrooms  \\\n",
       "0      -0.982951  0.902980            0.788462     0.022380        0.020016   \n",
       "1      -0.982871  0.902503            0.403846     0.180544        0.171606   \n",
       "2      -0.983032  0.902265            1.000000     0.037309        0.029480   \n",
       "3      -0.983112  0.902265            1.000000     0.032401        0.036462   \n",
       "4      -0.983112  0.902265            1.000000     0.041378        0.043445   \n",
       "...          ...       ...                 ...          ...             ...   \n",
       "20635  -0.973784  0.941120            0.480769     0.042345        0.058029   \n",
       "20636  -0.974749  0.941359            0.346154     0.017726        0.023274   \n",
       "20637  -0.974829  0.939928            0.326923     0.057325        0.075252   \n",
       "20638  -0.975633  0.939928            0.346154     0.047304        0.063460   \n",
       "20639  -0.974990  0.938498            0.307692     0.070829        0.095578   \n",
       "\n",
       "       population  households  median_income  median_house_value  \\\n",
       "0        0.009024    0.020717       0.555010            0.905198   \n",
       "1        0.067289    0.187110       0.553423            0.716999   \n",
       "2        0.013901    0.029102       0.483823            0.704199   \n",
       "3        0.015638    0.036008       0.376204            0.682599   \n",
       "4        0.015834    0.042585       0.256412            0.684399   \n",
       "...           ...         ...            ...                 ...   \n",
       "20635    0.023681    0.054258       0.104019            0.156200   \n",
       "20636    0.009977    0.018744       0.170452            0.154200   \n",
       "20637    0.028222    0.071194       0.113333            0.184600   \n",
       "20638    0.020767    0.057382       0.124479            0.169400   \n",
       "20639    0.038871    0.087142       0.159239            0.178800   \n",
       "\n",
       "       ocean_proximity  \n",
       "0                  NaN  \n",
       "1                  NaN  \n",
       "2                  NaN  \n",
       "3                  NaN  \n",
       "4                  NaN  \n",
       "...                ...  \n",
       "20635              NaN  \n",
       "20636              NaN  \n",
       "20637              NaN  \n",
       "20638              NaN  \n",
       "20639              NaN  \n",
       "\n",
       "[20640 rows x 10 columns]"
      ]
     },
     "metadata": {},
     "output_type": "display_data"
    }
   ],
   "source": [
    "# apply normalization techniques\n",
    "for column in df_max_scaled.columns:\n",
    "    df_max_scaled[column] = df_max_scaled[column]  / df_max_scaled[column].abs().max()\n",
    "      \n",
    "# view normalized data\n",
    "display(df_max_scaled)"
   ]
  },
  {
   "cell_type": "code",
   "execution_count": null,
   "id": "72a33397-8fdf-4d90-9a6e-f2c8b3ddf03f",
   "metadata": {},
   "outputs": [],
   "source": []
  }
 ],
 "metadata": {
  "kernelspec": {
   "display_name": "Python 3 (ipykernel)",
   "language": "python",
   "name": "python3"
  },
  "language_info": {
   "codemirror_mode": {
    "name": "ipython",
    "version": 3
   },
   "file_extension": ".py",
   "mimetype": "text/x-python",
   "name": "python",
   "nbconvert_exporter": "python",
   "pygments_lexer": "ipython3",
   "version": "3.9.2"
  }
 },
 "nbformat": 4,
 "nbformat_minor": 5
}
